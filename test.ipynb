{
  "nbformat": 4,
  "nbformat_minor": 0,
  "metadata": {
    "colab": {
      "name": "Untitled0.ipynb",
      "provenance": [],
      "authorship_tag": "ABX9TyP/g1vPg2inRzSCJiCr+ihx",
      "include_colab_link": true
    },
    "kernelspec": {
      "name": "python3",
      "display_name": "Python 3"
    }
  },
  "cells": [
    {
      "cell_type": "markdown",
      "metadata": {
        "id": "view-in-github",
        "colab_type": "text"
      },
      "source": [
        "<a href=\"https://colab.research.google.com/github/chemineer/Intro-to-stats/blob/master/test.ipynb\" target=\"_parent\"><img src=\"https://colab.research.google.com/assets/colab-badge.svg\" alt=\"Open In Colab\"/></a>"
      ]
    },
    {
      "cell_type": "markdown",
      "metadata": {
        "id": "iIqYkX0vbaO5"
      },
      "source": [
        "$\\alpha$/alpha,\n",
        "$\\beta$/beta,\n",
        "$\\gamma$/gamma,\n",
        "$\\delta$/delta,\n",
        "$\\epsilon$/epsilon,\n",
        "$\\zeta$/zeta,\n",
        "$\\eta$/eta,\n",
        "$\\theta$/theta,\n",
        "$\\kappa$/kappa,\n",
        "$\\lambda$/lambda,\n",
        "$\\mu$/mu,\n",
        "$\\nu$/nu,\n",
        "$\\xi$/xi(크사이),\n",
        "$\\pi$/pi,\n",
        "$\\rho$/rho,\n",
        "$\\sigma$/sigma,\n",
        "$\\tau$/tau,\n",
        "$\\phi$/phi,\n",
        "$\\psi$/psi(프사이),\n",
        "$\\omega$/omega\n"
      ]
    },
    {
      "cell_type": "markdown",
      "metadata": {
        "id": "yIPwHo7WgpDl"
      },
      "source": [
        "$\\int 3x^2 dx$\n",
        "\n",
        "$\\int (3x^2 - 6x + 1)dx$\n",
        "\n",
        "$\\int \\left( 2 + 6x + 4\\exp(x) + \\dfrac{5}{x} \\right) dx$\n",
        "\n",
        "$\\int \\frac{2x}{x^2 - 1} dx$\n",
        "\n",
        "$\\dfrac{\\partial F_1(x, y)}{\\partial x} = f(x, y) \\; \\leftrightarrow \\; F_1(x, y) = \\int_{}^{} f(x, y) dx + C(y)$\n",
        "\n",
        "$\\dfrac{\\partial^2 F_3(x,y)}{\\partial x \\partial y} \n",
        "= f(x, y) \\; \\leftrightarrow \\; F_3(x, y) \n",
        "= \\int_x \\int_y f(x, y) dydx$\n",
        "\n",
        "$\\iint f(x, y) dydx$"
      ]
    },
    {
      "cell_type": "markdown",
      "metadata": {
        "id": "rzMryXxbl8ED"
      },
      "source": [
        "$$\n",
        "\\begin{align}\n",
        "\\begin{aligned}\n",
        "\\text{E} \\left[ { \\dfrac{1}{N} \\sum_{i=1}^N (\\bar{X} - \\mu)^2 } \\right]\n",
        "&= \\text{E} \\left[ { \\dfrac{1}{N} \\sum_{i=1}^N \\left( \\dfrac{1}{N} \\sum_{j=1}^N X_j - \\mu \\right)^2 } \\right]  \\\\\n",
        "&= \\text{E} \\left[ { \\dfrac{1}{N} \\sum_{i=1}^N \\left( \\dfrac{1}{N} \\sum_{j=1}^N (X_j - \\mu) \\right)^2 } \\right]  \\\\\n",
        "&= \\text{E} \\left[ \\dfrac{1}{N^3} \\sum_{i=1}^N \\sum_{j=1}^N \\sum_{k=1}^N (X_j - \\mu)(X_k - \\mu)  \\right]  \\\\\n",
        "\\end{aligned} \n",
        "\\tag{7.3.26}\n",
        "\\end{align}\n",
        "$$"
      ]
    }
  ]
}