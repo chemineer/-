{
  "nbformat": 4,
  "nbformat_minor": 0,
  "metadata": {
    "colab": {
      "name": "Untitled0.ipynb",
      "provenance": [],
      "authorship_tag": "ABX9TyM4ir8k7gfp++GwfuZWtiSU",
      "include_colab_link": true
    },
    "kernelspec": {
      "name": "python3",
      "display_name": "Python 3"
    }
  },
  "cells": [
    {
      "cell_type": "markdown",
      "metadata": {
        "id": "view-in-github",
        "colab_type": "text"
      },
      "source": [
        "<a href=\"https://colab.research.google.com/github/chemineer/Intro-to-stats/blob/master/test.ipynb\" target=\"_parent\"><img src=\"https://colab.research.google.com/assets/colab-badge.svg\" alt=\"Open In Colab\"/></a>"
      ]
    },
    {
      "cell_type": "markdown",
      "metadata": {
        "id": "iIqYkX0vbaO5"
      },
      "source": [
        "$\\alpha$\n",
        "$\\beta$\n",
        "$\\gamma$\n",
        "$\\delta$\n",
        "$\\epsilon$\n",
        "$\\zeta$\n",
        "$\\eta$\n",
        "$\\theta$\n",
        "$\\kappa$\n",
        "$\\lambda$\n",
        "$\\mu$\n",
        "$\\nu$\n",
        "$\\xi$\n",
        "$\\pi$\n",
        "$\\rho$\n",
        "$\\sigma$\n",
        "$\\tau$\n",
        "$\\phi$\n",
        "$\\psi$\n",
        "$\\omega$\n"
      ]
    }
  ]
}